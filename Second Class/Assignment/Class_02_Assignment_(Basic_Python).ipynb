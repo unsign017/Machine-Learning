{
  "cells": [
    {
      "cell_type": "markdown",
      "id": "9818ffc8",
      "metadata": {
        "id": "9818ffc8"
      },
      "source": [
        "# Python Practice Problems"
      ]
    },
    {
      "cell_type": "markdown",
      "id": "92c96f2f",
      "metadata": {
        "id": "92c96f2f"
      },
      "source": [
        "### 1. Find the Largest of Two Numbers\n",
        "**Task:** Given two numbers, find the larger one.  \n",
        "**Demo Input:**  5 and 6 <br>\n",
        "**Output:** 6\n"
      ]
    },
    {
      "cell_type": "code",
      "execution_count": null,
      "id": "15c848cf",
      "metadata": {
        "id": "15c848cf",
        "outputId": "d4785647-8a09-4e1d-e0aa-7b0128b4bb3b",
        "colab": {
          "base_uri": "https://localhost:8080/"
        }
      },
      "outputs": [
        {
          "output_type": "stream",
          "name": "stdout",
          "text": [
            "Enter two variable : 5 6\n",
            "6\n"
          ]
        }
      ],
      "source": [
        "x, y = map(int, input(\"Enter two variable : \").split(\" \"))\n",
        "if x > y:\n",
        "    print(x)\n",
        "else:\n",
        "    print(y)"
      ]
    },
    {
      "cell_type": "markdown",
      "id": "c8c1c683",
      "metadata": {
        "id": "c8c1c683"
      },
      "source": [
        "### 2. Print Numbers from 1 to N\n",
        "**Task**: Given a number `n`, print all numbers from 1 to `n`. <br>\n",
        "**Demo Input**: `5`  <br>\n",
        "**Demo Output**:  1 2 3 4 5\n"
      ]
    },
    {
      "cell_type": "code",
      "execution_count": null,
      "id": "4f9f4529",
      "metadata": {
        "id": "4f9f4529",
        "outputId": "78f23a2a-94fb-4b57-fcdf-2d290f68bb8a",
        "colab": {
          "base_uri": "https://localhost:8080/"
        }
      },
      "outputs": [
        {
          "output_type": "stream",
          "name": "stdout",
          "text": [
            "Enter a number : 5\n",
            "1 2 3 4 5 "
          ]
        }
      ],
      "source": [
        "n = int(input(\"Enter a number : \"))\n",
        "for i in range(1, n+1):\n",
        "    # print(i, end = \" \")"
      ]
    },
    {
      "cell_type": "markdown",
      "id": "899df468",
      "metadata": {
        "id": "899df468"
      },
      "source": [
        "### 3. Check if a Number is Positive or Negative\n",
        "**Task**: Determine if the input number is positive, negative, or zero.  \n",
        "**Demo Input**: `-3`  \n",
        "**Demo Output**: `The number is Negative`"
      ]
    },
    {
      "cell_type": "code",
      "execution_count": 10,
      "id": "56ae285e",
      "metadata": {
        "id": "56ae285e",
        "outputId": "7d69b145-9c8d-47b0-dbc7-2a436fdb26d5",
        "colab": {
          "base_uri": "https://localhost:8080/"
        }
      },
      "outputs": [
        {
          "output_type": "stream",
          "name": "stdout",
          "text": [
            "Enter a number : -3\n",
            "The number is Negative\n"
          ]
        }
      ],
      "source": [
        "n = int(input(\"Enter a number : \"))\n",
        "if n > 0:\n",
        "    print(\"The number is Positive\")\n",
        "else:\n",
        "    print(\"The number is Negative\")"
      ]
    },
    {
      "cell_type": "markdown",
      "id": "9d865d12",
      "metadata": {
        "id": "9d865d12"
      },
      "source": [
        "### 4. Calculate the Sum of Digits\n",
        "**Task**: Given a number, find the sum of its digits.  \n",
        "**Demo Input**: `123`  \n",
        "**Demo Output**: `6`  \n",
        "(Explanation: `1+2+3=6`)"
      ]
    },
    {
      "cell_type": "code",
      "execution_count": null,
      "id": "c28b2c6c",
      "metadata": {
        "id": "c28b2c6c",
        "outputId": "f47e7bef-373a-429a-d29b-fe2f192a07e9",
        "colab": {
          "base_uri": "https://localhost:8080/"
        }
      },
      "outputs": [
        {
          "output_type": "stream",
          "name": "stdout",
          "text": [
            "Enter a number : 456\n",
            "15\n"
          ]
        }
      ],
      "source": [
        "digit = int(input(\"Enter a number : \"))\n",
        "sum = 0\n",
        "while digit > 0:\n",
        "    r = digit % 10\n",
        "    sum +=r\n",
        "    digit //=10\n",
        "print(sum)"
      ]
    },
    {
      "cell_type": "markdown",
      "id": "a970046f",
      "metadata": {
        "id": "a970046f"
      },
      "source": [
        "### 5. Find Factorial of a Number\n",
        "**Task**: Calculate the factorial of a given number.  \n",
        "**Demo Input**: `4`  \n",
        "**Demo Output**: `24`  \n",
        "(Explanation: `4! = 4*3*2*1 = 24`)"
      ]
    },
    {
      "cell_type": "code",
      "execution_count": null,
      "id": "fd5966d2",
      "metadata": {
        "id": "fd5966d2",
        "outputId": "7d025af9-4069-4588-8f24-bc13f118a956",
        "colab": {
          "base_uri": "https://localhost:8080/"
        }
      },
      "outputs": [
        {
          "output_type": "stream",
          "name": "stdout",
          "text": [
            "Enter a number : 4\n",
            "24\n"
          ]
        }
      ],
      "source": [
        "n = int(input(\"Enter a number : \"))\n",
        "fac = 1\n",
        "for i in range (1, n+1):\n",
        "    fac *=i\n",
        "print(fac)"
      ]
    },
    {
      "cell_type": "markdown",
      "id": "c8798099",
      "metadata": {
        "id": "c8798099"
      },
      "source": [
        "### 6. Count Occurrences of a Digit\n",
        "**Task**: Count how many times a specific digit appears max in a number.  \n",
        "**Demo Input**:  1233321 <br>\n",
        "**Demo Output**: `3`  <br>\n",
        "(Explanation: `3` appears 3 times in `1233321`)"
      ]
    },
    {
      "cell_type": "code",
      "execution_count": 5,
      "id": "5772f0e6",
      "metadata": {
        "id": "5772f0e6",
        "colab": {
          "base_uri": "https://localhost:8080/"
        },
        "outputId": "f3b6c6b5-e907-43be-e65a-004da4a8af29"
      },
      "outputs": [
        {
          "output_type": "stream",
          "name": "stdout",
          "text": [
            "Enter a number: 1233321\n",
            "Max digit count: 3\n"
          ]
        }
      ],
      "source": [
        "number = input(\"Enter a number: \")\n",
        "digit_counts = {}\n",
        "\n",
        "for digit in number:\n",
        "    if digit in digit_counts:\n",
        "        digit_counts[digit] += 1\n",
        "    else:\n",
        "        digit_counts[digit] = 1\n",
        "\n",
        "max_count = max(digit_counts.values())\n",
        "\n",
        "print(\"Max digit count:\", max_count)\n"
      ]
    },
    {
      "cell_type": "markdown",
      "id": "b7f985bc",
      "metadata": {
        "id": "b7f985bc"
      },
      "source": [
        "### 7. Find the GCD of Two Numbers\n",
        "**Task**: Find the greatest common divisor (GCD) of two numbers.  \n",
        "**Demo Input**: 8 and 12 <br>\n",
        "**Demo Output**: `4`"
      ]
    },
    {
      "cell_type": "code",
      "execution_count": 6,
      "id": "a467887d",
      "metadata": {
        "id": "a467887d",
        "colab": {
          "base_uri": "https://localhost:8080/"
        },
        "outputId": "d5e98726-e960-4563-9706-fa6362c36f29"
      },
      "outputs": [
        {
          "output_type": "stream",
          "name": "stdout",
          "text": [
            "Enter the first number: 8\n",
            "Enter the second number: 12\n",
            "GCD: 4\n"
          ]
        }
      ],
      "source": [
        "num1 = int(input(\"Enter the first number: \"))\n",
        "num2 = int(input(\"Enter the second number: \"))\n",
        "\n",
        "gcd = 1\n",
        "\n",
        "for i in range(1, min(num1, num2) + 1):\n",
        "    if num1 % i == 0 and num2 % i == 0:\n",
        "        gcd = i\n",
        "\n",
        "print(\"GCD:\", gcd)\n"
      ]
    },
    {
      "cell_type": "markdown",
      "id": "14c6a2fd",
      "metadata": {
        "id": "14c6a2fd"
      },
      "source": [
        "### 8. Reverse a String\n",
        "**Task**: Reverse the given string.  \n",
        "**Demo Input**: `\"aiquest\"`  \n",
        "**Demo Output**: `\"tseuqia\"`"
      ]
    },
    {
      "cell_type": "code",
      "execution_count": 7,
      "id": "bd22e158",
      "metadata": {
        "id": "bd22e158",
        "colab": {
          "base_uri": "https://localhost:8080/"
        },
        "outputId": "3c662c08-d53f-4504-845a-391506e42c0f"
      },
      "outputs": [
        {
          "output_type": "stream",
          "name": "stdout",
          "text": [
            "Enter a string: aiquest\n",
            "Reversed string: tseuqia\n"
          ]
        }
      ],
      "source": [
        "string = input(\"Enter a string: \")\n",
        "\n",
        "reversed_string = string[::-1]\n",
        "\n",
        "print(\"Reversed string:\", reversed_string)\n"
      ]
    },
    {
      "cell_type": "markdown",
      "id": "88317dfd",
      "metadata": {
        "id": "88317dfd"
      },
      "source": [
        "### 9. Check Armstrong Number\n",
        "**Task**: Check if a number is an Armstrong number (the sum of its digits raised to the power of the number of digits equals the number).  \n",
        "**Demo Input**: `153`  \n",
        "**Demo Output**: `153 is an Armstrong Number`  \n",
        "(Explanation: \\(1^3 + 5^3 + 3^3 = 153\\))"
      ]
    },
    {
      "cell_type": "code",
      "execution_count": 8,
      "id": "2602ff94",
      "metadata": {
        "id": "2602ff94",
        "colab": {
          "base_uri": "https://localhost:8080/"
        },
        "outputId": "c6cbcec0-62fe-4ebe-8571-7b849bb44565"
      },
      "outputs": [
        {
          "output_type": "stream",
          "name": "stdout",
          "text": [
            "Enter a number: 153\n",
            "153 is an Armstrong Number\n"
          ]
        }
      ],
      "source": [
        "number = int(input(\"Enter a number: \"))\n",
        "\n",
        "num_str = str(number)\n",
        "num_digits = len(num_str)\n",
        "\n",
        "sum_of_powers = 0\n",
        "\n",
        "for digit in num_str:\n",
        "    sum_of_powers += int(digit) ** num_digits\n",
        "\n",
        "if sum_of_powers == number:\n",
        "    print(f\"{number} is an Armstrong Number\")\n",
        "else:\n",
        "    print(f\"{number} is not an Armstrong Number\")\n"
      ]
    },
    {
      "cell_type": "markdown",
      "id": "0905a3cc",
      "metadata": {
        "id": "0905a3cc"
      },
      "source": [
        "### 10. Generate a Pattern\n",
        "**Task**: Print a pyramid pattern with `n` rows.  \n",
        "**Demo input:** 4 <br>\n",
        "**Output:** You will see the pyramid pattern with 4 rows"
      ]
    },
    {
      "cell_type": "code",
      "execution_count": 9,
      "id": "83d8b483",
      "metadata": {
        "id": "83d8b483",
        "colab": {
          "base_uri": "https://localhost:8080/"
        },
        "outputId": "a3287a6c-b24f-4e78-b3e6-af50fe357ea0"
      },
      "outputs": [
        {
          "output_type": "stream",
          "name": "stdout",
          "text": [
            "Enter the number of rows: 4\n",
            "   *\n",
            "  ***\n",
            " *****\n",
            "*******\n"
          ]
        }
      ],
      "source": [
        "n = int(input(\"Enter the number of rows: \"))\n",
        "\n",
        "for i in range(1, n + 1):\n",
        "    print(\" \" * (n - i), end=\"\")\n",
        "\n",
        "    print(\"*\" * (2 * i - 1))\n"
      ]
    },
    {
      "cell_type": "markdown",
      "id": "ec723917",
      "metadata": {
        "id": "ec723917"
      },
      "source": [
        "# Good Luck!"
      ]
    }
  ],
  "metadata": {
    "kernelspec": {
      "display_name": "Python 3 (ipykernel)",
      "language": "python",
      "name": "python3"
    },
    "language_info": {
      "codemirror_mode": {
        "name": "ipython",
        "version": 3
      },
      "file_extension": ".py",
      "mimetype": "text/x-python",
      "name": "python",
      "nbconvert_exporter": "python",
      "pygments_lexer": "ipython3",
      "version": "3.9.13"
    },
    "colab": {
      "provenance": []
    }
  },
  "nbformat": 4,
  "nbformat_minor": 5
}